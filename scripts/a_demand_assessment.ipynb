{
 "cells": [
  {
   "cell_type": "code",
   "execution_count": 5,
   "id": "88969c79-81f6-429b-985c-4988742c73db",
   "metadata": {},
   "outputs": [
    {
     "name": "stdout",
     "output_type": "stream",
     "text": [
      "Peakhour_demand_50_0.5_500.csv\n",
      "results/DemandPeakHours/Peakhour_demand_50_0.5_500.csv\n"
     ]
    }
   ],
   "source": [
    "\"\"\"\n",
    "Simulation run script for infraSharing5Gupgrade.\n",
    "Written by Shruthi K A & Ed Oughton.\n",
    "Jan 2023\n",
    "\"\"\"\n",
    "\n",
    "import math\n",
    "import numpy as np\n",
    "import random\n",
    "import pandas as pd\n",
    "import os\n",
    "from pathlib import Path\n",
    "\n",
    "Demandparams = {\n",
    "    'demand_gb_month': 50,  \n",
    "    'adoption_rate_perc': 0.5,\n",
    "    'area_covered': 500,\n",
    "}\n",
    "\n",
    "\n",
    "def demand(Demandparams):\n",
    "#     \"\"\"\n",
    "#     This function estimates the minimum data rate per user required during peak hours to keep the QoE (quality of experience) per user higher.\n",
    "    \n",
    "#     \"\"\"\n",
    "    DemandperMonth_GB = float(Demandparams['demand_gb_month'])\n",
    "    #print(DemandperMonth_GB)\n",
    "    takeuprate = float(Demandparams['adoption_rate_perc'])\n",
    "    #print(takeuprate)\n",
    "    AreaCovered_km2 = float(Demandparams['area_covered'])\n",
    "    \n",
    "    \n",
    "    MBperDay_MB = DemandperMonth_GB*math.pow(10,3)/12;\n",
    "    BusisestHour = 0.15; #overhead booking factor \n",
    "    MBperBusyHour_MBphour = MBperDay_MB*BusisestHour;\n",
    "    MinimumMbpsPerUser_Mbps = MBperBusyHour_MBphour*8/3600; #1 byte = 8 bits and 1 hour = 3600 seconds\n",
    "    MinimumMbpsPerUser_Mbps = round(MinimumMbpsPerUser_Mbps,2)\n",
    "\n",
    "    \n",
    "    randomlist = []\n",
    "    for i in range(0,24):\n",
    "        Rc = random.randint(1,50)\n",
    "        randomlist.append(Rc) \n",
    "\n",
    "    output = []\n",
    "    for RuralPopDensity in range(18,300,18):\n",
    "        Totalpopulation = AreaCovered_km2*RuralPopDensity;\n",
    "        TotalUsers = Totalpopulation*takeuprate;\n",
    "        MinimumSpeedRequiredfortheUsers_Mbps_perkm2 = MinimumMbpsPerUser_Mbps*TotalUsers/AreaCovered_km2;\n",
    "        MinimumSpeedRequiredfortheUsers_Mbps_perkm2 = round(MinimumSpeedRequiredfortheUsers_Mbps_perkm2,0)\n",
    "        output.append({\n",
    "            'iterations': _,\n",
    "            'PopulationDensity': RuralPopDensity,\n",
    "            'Totalpopulation': Totalpopulation,\n",
    "            'TotalUsers_existing': TotalUsers,\n",
    "            'demand_gb_month': DemandperMonth_GB,\n",
    "            'adoption_rate_perc':takeuprate,\n",
    "            'MinimumMbpsPerUser': MinimumMbpsPerUser_Mbps,\n",
    "            'RequiredDataThroughput': MinimumSpeedRequiredfortheUsers_Mbps_perkm2,\n",
    "        })\n",
    "\n",
    "    output = pd.DataFrame(output)\n",
    "    \n",
    "    filename = \"Peakhour_demand_{}_{}_{}.csv\".format(\n",
    "        Demandparams['demand_gb_month'], \n",
    "        Demandparams['adoption_rate_perc'], \n",
    "        Demandparams['area_covered'],\n",
    "    )\n",
    "    print(filename)\n",
    "    if not os.path.exists('results/DemandPeakHours'):\n",
    "            os.mkdir('results/DemandPeakHours')\n",
    "    my_path = os.path.join('results/DemandPeakHours/', filename)\n",
    "    print(my_path)\n",
    "    output.to_csv(my_path)\n",
    "\n",
    "demand(Demandparams)\n",
    "# my_path = os.path.join('results/Capacity', filename)"
   ]
  },
  {
   "cell_type": "code",
   "execution_count": 2,
   "id": "b0d77f83-ddc1-4c20-b356-b63c069a5a20",
   "metadata": {},
   "outputs": [
    {
     "name": "stdout",
     "output_type": "stream",
     "text": [
      "File location using os.getcwd(): C:\\Users\\shrut\\Documents\\GitHub\\newInfraShare5G\\scripts\n"
     ]
    }
   ],
   "source": [
    "\n",
    "# import os\n",
    " \n",
    "# print(\"File location using os.getcwd():\", os.getcwd())"
   ]
  }
 ],
 "metadata": {
  "kernelspec": {
   "display_name": "Python 3 (ipykernel)",
   "language": "python",
   "name": "python3"
  },
  "language_info": {
   "codemirror_mode": {
    "name": "ipython",
    "version": 3
   },
   "file_extension": ".py",
   "mimetype": "text/x-python",
   "name": "python",
   "nbconvert_exporter": "python",
   "pygments_lexer": "ipython3",
   "version": "3.9.13"
  }
 },
 "nbformat": 4,
 "nbformat_minor": 5
}
